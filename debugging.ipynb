{
  "nbformat": 4,
  "nbformat_minor": 0,
  "metadata": {
    "colab": {
      "name": "debugging.ipynb",
      "version": "0.3.2",
      "provenance": [],
      "include_colab_link": true
    },
    "kernelspec": {
      "display_name": "Python 3",
      "language": "python",
      "name": "python3"
    }
  },
  "cells": [
    {
      "cell_type": "markdown",
      "metadata": {
        "id": "view-in-github",
        "colab_type": "text"
      },
      "source": [
        "<a href=\"https://colab.research.google.com/github/AshokMadduru/python/blob/master/debugging.ipynb\" target=\"_parent\"><img src=\"https://colab.research.google.com/assets/colab-badge.svg\" alt=\"Open In Colab\"/></a>"
      ]
    },
    {
      "cell_type": "markdown",
      "metadata": {
        "collapsed": true,
        "id": "3d0kT43Hs9Hb",
        "colab_type": "text"
      },
      "source": [
        "# Debugging"
      ]
    },
    {
      "cell_type": "markdown",
      "metadata": {
        "id": "dNQnVsqAs9Hd",
        "colab_type": "text"
      },
      "source": [
        "**pdb** implements an interactive debugging environment for Python programs. It includes features to let you pause your program, look at the values of variables, and watch program execution step-by-step, so you can understand what your program actually does and find bugs in the logic."
      ]
    },
    {
      "cell_type": "markdown",
      "metadata": {
        "id": "AqsZUm-9s9Hd",
        "colab_type": "text"
      },
      "source": [
        "# Starting the Debugger"
      ]
    },
    {
      "cell_type": "markdown",
      "metadata": {
        "id": "hwglejl-s9He",
        "colab_type": "text"
      },
      "source": [
        "**From the Command Line**"
      ]
    },
    {
      "cell_type": "code",
      "metadata": {
        "id": "Gboz0XI7s9Hf",
        "colab_type": "code",
        "outputId": "ac5d0f4d-e422-4586-f465-a28bb8c99783",
        "colab": {
          "base_uri": "https://localhost:8080/",
          "height": 102
        }
      },
      "source": [
        "def seq(n):\n",
        "    for i in range(n):\n",
        "        print(i)\n",
        "    return\n",
        "\n",
        "seq(5)"
      ],
      "execution_count": 1,
      "outputs": [
        {
          "output_type": "stream",
          "text": [
            "0\n",
            "1\n",
            "2\n",
            "3\n",
            "4\n"
          ],
          "name": "stdout"
        }
      ]
    },
    {
      "cell_type": "markdown",
      "metadata": {
        "id": "xU9U-jBns9Hm",
        "colab_type": "text"
      },
      "source": [
        "**From Within Your Program**"
      ]
    },
    {
      "cell_type": "code",
      "metadata": {
        "id": "5fk77hhTs9Hn",
        "colab_type": "code",
        "outputId": "0f25f240-8b69-4640-c71c-021aad46a405",
        "colab": {
          "base_uri": "https://localhost:8080/",
          "height": 581
        }
      },
      "source": [
        "import pdb\n",
        "\n",
        "#interactive debugging\n",
        "def seq(n):\n",
        "    for i in range(n):\n",
        "        pdb.set_trace() # breakpoint\n",
        "        print(i)\n",
        "    return\n",
        "\n",
        "seq(5)\n",
        "\n",
        "\n",
        "# c : continue\n",
        "# q: quit\n",
        "# h: help\n",
        "# list\n",
        "# p: print\n",
        "# p locals()\n",
        "# p globals()\n",
        "\n"
      ],
      "execution_count": 4,
      "outputs": [
        {
          "output_type": "stream",
          "text": [
            "> <ipython-input-4-f5932230ad26>(7)seq()\n",
            "-> print(i)\n",
            "(Pdb) 1\n",
            "1\n",
            "(Pdb) 2\n",
            "2\n",
            "(Pdb) p globals()\n",
            "{'__name__': '__main__', '__doc__': 'Automatically created module for IPython interactive environment', '__package__': None, '__loader__': None, '__spec__': None, '__builtin__': <module 'builtins' (built-in)>, '__builtins__': <module 'builtins' (built-in)>, '_ih': ['', 'def seq(n):\\n    for i in range(n):\\n        print(i)\\n    return\\n\\nseq(5)', 'import pdb\\n\\n#interactive debugging\\ndef seq(n):\\n    for i in range(n):\\n        pdb.set_trace() # breakpoint\\n        print(i)\\n    return\\n\\nseq(5)\\n\\n\\n# c : continue\\n# q: quit\\n# h: help\\n# list\\n# p: print\\n# p locals()\\n# p globals()', 'import pdb\\n\\n#interactive debugging\\ndef seq(n):\\n    for i in range(n):\\n        pdb.set_trace() # breakpoint\\n        print(i)\\n    return\\n\\nseq(5)\\n\\n\\n# c : continue\\n# q: quit\\n# h: help\\n# list\\n# p: print\\n# p locals()\\n# p globals()', 'import pdb\\n\\n#interactive debugging\\ndef seq(n):\\n    for i in range(n):\\n        pdb.set_trace() # breakpoint\\n        print(i)\\n    return\\n\\nseq(5)\\n\\n\\n# c : continue\\n# q: quit\\n# h: help\\n# list\\n# p: print\\n# p locals()\\n# p globals()'], '_oh': {}, '_dh': ['/content'], '_sh': <module 'IPython.core.shadowns' from '/usr/local/lib/python3.6/dist-packages/IPython/core/shadowns.py'>, 'In': ['', 'def seq(n):\\n    for i in range(n):\\n        print(i)\\n    return\\n\\nseq(5)', 'import pdb\\n\\n#interactive debugging\\ndef seq(n):\\n    for i in range(n):\\n        pdb.set_trace() # breakpoint\\n        print(i)\\n    return\\n\\nseq(5)\\n\\n\\n# c : continue\\n# q: quit\\n# h: help\\n# list\\n# p: print\\n# p locals()\\n# p globals()', 'import pdb\\n\\n#interactive debugging\\ndef seq(n):\\n    for i in range(n):\\n        pdb.set_trace() # breakpoint\\n        print(i)\\n    return\\n\\nseq(5)\\n\\n\\n# c : continue\\n# q: quit\\n# h: help\\n# list\\n# p: print\\n# p locals()\\n# p globals()', 'import pdb\\n\\n#interactive debugging\\ndef seq(n):\\n    for i in range(n):\\n        pdb.set_trace() # breakpoint\\n        print(i)\\n    return\\n\\nseq(5)\\n\\n\\n# c : continue\\n# q: quit\\n# h: help\\n# list\\n# p: print\\n# p locals()\\n# p globals()'], 'Out': {}, 'get_ipython': <bound method InteractiveShell.get_ipython of <google.colab._shell.Shell object at 0x7fc60ad6c7f0>>, 'exit': <IPython.core.autocall.ZMQExitAutocall object at 0x7fc60ad94be0>, 'quit': <IPython.core.autocall.ZMQExitAutocall object at 0x7fc60ad94be0>, '_': '', '__': '', '___': '', '_i': 'import pdb\\n\\n#interactive debugging\\ndef seq(n):\\n    for i in range(n):\\n        pdb.set_trace() # breakpoint\\n        print(i)\\n    return\\n\\nseq(5)\\n\\n\\n# c : continue\\n# q: quit\\n# h: help\\n# list\\n# p: print\\n# p locals()\\n# p globals()', '_ii': 'import pdb\\n\\n#interactive debugging\\ndef seq(n):\\n    for i in range(n):\\n        pdb.set_trace() # breakpoint\\n        print(i)\\n    return\\n\\nseq(5)\\n\\n\\n# c : continue\\n# q: quit\\n# h: help\\n# list\\n# p: print\\n# p locals()\\n# p globals()', '_iii': 'def seq(n):\\n    for i in range(n):\\n        print(i)\\n    return\\n\\nseq(5)', '_i1': 'def seq(n):\\n    for i in range(n):\\n        print(i)\\n    return\\n\\nseq(5)', 'seq': <function seq at 0x7fc5fccae268>, '_i2': 'import pdb\\n\\n#interactive debugging\\ndef seq(n):\\n    for i in range(n):\\n        pdb.set_trace() # breakpoint\\n        print(i)\\n    return\\n\\nseq(5)\\n\\n\\n# c : continue\\n# q: quit\\n# h: help\\n# list\\n# p: print\\n# p locals()\\n# p globals()', 'pdb': <module 'pdb' from '/usr/lib/python3.6/pdb.py'>, '_i3': 'import pdb\\n\\n#interactive debugging\\ndef seq(n):\\n    for i in range(n):\\n        pdb.set_trace() # breakpoint\\n        print(i)\\n    return\\n\\nseq(5)\\n\\n\\n# c : continue\\n# q: quit\\n# h: help\\n# list\\n# p: print\\n# p locals()\\n# p globals()', '_i4': 'import pdb\\n\\n#interactive debugging\\ndef seq(n):\\n    for i in range(n):\\n        pdb.set_trace() # breakpoint\\n        print(i)\\n    return\\n\\nseq(5)\\n\\n\\n# c : continue\\n# q: quit\\n# h: help\\n# list\\n# p: print\\n# p locals()\\n# p globals()'}\n",
            "(Pdb) p locals()\n",
            "{'i': 0, 'n': 5}\n",
            "(Pdb) q\n"
          ],
          "name": "stdout"
        },
        {
          "output_type": "error",
          "ename": "BdbQuit",
          "evalue": "ignored",
          "traceback": [
            "\u001b[0;31m---------------------------------------------------------------------------\u001b[0m",
            "\u001b[0;31mBdbQuit\u001b[0m                                   Traceback (most recent call last)",
            "\u001b[0;32m<ipython-input-4-f5932230ad26>\u001b[0m in \u001b[0;36m<module>\u001b[0;34m()\u001b[0m\n\u001b[1;32m      8\u001b[0m     \u001b[0;32mreturn\u001b[0m\u001b[0;34m\u001b[0m\u001b[0;34m\u001b[0m\u001b[0m\n\u001b[1;32m      9\u001b[0m \u001b[0;34m\u001b[0m\u001b[0m\n\u001b[0;32m---> 10\u001b[0;31m \u001b[0mseq\u001b[0m\u001b[0;34m(\u001b[0m\u001b[0;36m5\u001b[0m\u001b[0;34m)\u001b[0m\u001b[0;34m\u001b[0m\u001b[0;34m\u001b[0m\u001b[0m\n\u001b[0m\u001b[1;32m     11\u001b[0m \u001b[0;34m\u001b[0m\u001b[0m\n\u001b[1;32m     12\u001b[0m \u001b[0;34m\u001b[0m\u001b[0m\n",
            "\u001b[0;32m<ipython-input-4-f5932230ad26>\u001b[0m in \u001b[0;36mseq\u001b[0;34m(n)\u001b[0m\n\u001b[1;32m      5\u001b[0m     \u001b[0;32mfor\u001b[0m \u001b[0mi\u001b[0m \u001b[0;32min\u001b[0m \u001b[0mrange\u001b[0m\u001b[0;34m(\u001b[0m\u001b[0mn\u001b[0m\u001b[0;34m)\u001b[0m\u001b[0;34m:\u001b[0m\u001b[0;34m\u001b[0m\u001b[0;34m\u001b[0m\u001b[0m\n\u001b[1;32m      6\u001b[0m         \u001b[0mpdb\u001b[0m\u001b[0;34m.\u001b[0m\u001b[0mset_trace\u001b[0m\u001b[0;34m(\u001b[0m\u001b[0;34m)\u001b[0m \u001b[0;31m# breakpoint\u001b[0m\u001b[0;34m\u001b[0m\u001b[0;34m\u001b[0m\u001b[0m\n\u001b[0;32m----> 7\u001b[0;31m         \u001b[0mprint\u001b[0m\u001b[0;34m(\u001b[0m\u001b[0mi\u001b[0m\u001b[0;34m)\u001b[0m\u001b[0;34m\u001b[0m\u001b[0;34m\u001b[0m\u001b[0m\n\u001b[0m\u001b[1;32m      8\u001b[0m     \u001b[0;32mreturn\u001b[0m\u001b[0;34m\u001b[0m\u001b[0;34m\u001b[0m\u001b[0m\n\u001b[1;32m      9\u001b[0m \u001b[0;34m\u001b[0m\u001b[0m\n",
            "\u001b[0;32m<ipython-input-4-f5932230ad26>\u001b[0m in \u001b[0;36mseq\u001b[0;34m(n)\u001b[0m\n\u001b[1;32m      5\u001b[0m     \u001b[0;32mfor\u001b[0m \u001b[0mi\u001b[0m \u001b[0;32min\u001b[0m \u001b[0mrange\u001b[0m\u001b[0;34m(\u001b[0m\u001b[0mn\u001b[0m\u001b[0;34m)\u001b[0m\u001b[0;34m:\u001b[0m\u001b[0;34m\u001b[0m\u001b[0;34m\u001b[0m\u001b[0m\n\u001b[1;32m      6\u001b[0m         \u001b[0mpdb\u001b[0m\u001b[0;34m.\u001b[0m\u001b[0mset_trace\u001b[0m\u001b[0;34m(\u001b[0m\u001b[0;34m)\u001b[0m \u001b[0;31m# breakpoint\u001b[0m\u001b[0;34m\u001b[0m\u001b[0;34m\u001b[0m\u001b[0m\n\u001b[0;32m----> 7\u001b[0;31m         \u001b[0mprint\u001b[0m\u001b[0;34m(\u001b[0m\u001b[0mi\u001b[0m\u001b[0;34m)\u001b[0m\u001b[0;34m\u001b[0m\u001b[0;34m\u001b[0m\u001b[0m\n\u001b[0m\u001b[1;32m      8\u001b[0m     \u001b[0;32mreturn\u001b[0m\u001b[0;34m\u001b[0m\u001b[0;34m\u001b[0m\u001b[0m\n\u001b[1;32m      9\u001b[0m \u001b[0;34m\u001b[0m\u001b[0m\n",
            "\u001b[0;32m/usr/lib/python3.6/bdb.py\u001b[0m in \u001b[0;36mtrace_dispatch\u001b[0;34m(self, frame, event, arg)\u001b[0m\n\u001b[1;32m     49\u001b[0m             \u001b[0;32mreturn\u001b[0m \u001b[0;31m# None\u001b[0m\u001b[0;34m\u001b[0m\u001b[0;34m\u001b[0m\u001b[0m\n\u001b[1;32m     50\u001b[0m         \u001b[0;32mif\u001b[0m \u001b[0mevent\u001b[0m \u001b[0;34m==\u001b[0m \u001b[0;34m'line'\u001b[0m\u001b[0;34m:\u001b[0m\u001b[0;34m\u001b[0m\u001b[0;34m\u001b[0m\u001b[0m\n\u001b[0;32m---> 51\u001b[0;31m             \u001b[0;32mreturn\u001b[0m \u001b[0mself\u001b[0m\u001b[0;34m.\u001b[0m\u001b[0mdispatch_line\u001b[0m\u001b[0;34m(\u001b[0m\u001b[0mframe\u001b[0m\u001b[0;34m)\u001b[0m\u001b[0;34m\u001b[0m\u001b[0;34m\u001b[0m\u001b[0m\n\u001b[0m\u001b[1;32m     52\u001b[0m         \u001b[0;32mif\u001b[0m \u001b[0mevent\u001b[0m \u001b[0;34m==\u001b[0m \u001b[0;34m'call'\u001b[0m\u001b[0;34m:\u001b[0m\u001b[0;34m\u001b[0m\u001b[0;34m\u001b[0m\u001b[0m\n\u001b[1;32m     53\u001b[0m             \u001b[0;32mreturn\u001b[0m \u001b[0mself\u001b[0m\u001b[0;34m.\u001b[0m\u001b[0mdispatch_call\u001b[0m\u001b[0;34m(\u001b[0m\u001b[0mframe\u001b[0m\u001b[0;34m,\u001b[0m \u001b[0marg\u001b[0m\u001b[0;34m)\u001b[0m\u001b[0;34m\u001b[0m\u001b[0;34m\u001b[0m\u001b[0m\n",
            "\u001b[0;32m/usr/lib/python3.6/bdb.py\u001b[0m in \u001b[0;36mdispatch_line\u001b[0;34m(self, frame)\u001b[0m\n\u001b[1;32m     68\u001b[0m         \u001b[0;32mif\u001b[0m \u001b[0mself\u001b[0m\u001b[0;34m.\u001b[0m\u001b[0mstop_here\u001b[0m\u001b[0;34m(\u001b[0m\u001b[0mframe\u001b[0m\u001b[0;34m)\u001b[0m \u001b[0;32mor\u001b[0m \u001b[0mself\u001b[0m\u001b[0;34m.\u001b[0m\u001b[0mbreak_here\u001b[0m\u001b[0;34m(\u001b[0m\u001b[0mframe\u001b[0m\u001b[0;34m)\u001b[0m\u001b[0;34m:\u001b[0m\u001b[0;34m\u001b[0m\u001b[0;34m\u001b[0m\u001b[0m\n\u001b[1;32m     69\u001b[0m             \u001b[0mself\u001b[0m\u001b[0;34m.\u001b[0m\u001b[0muser_line\u001b[0m\u001b[0;34m(\u001b[0m\u001b[0mframe\u001b[0m\u001b[0;34m)\u001b[0m\u001b[0;34m\u001b[0m\u001b[0;34m\u001b[0m\u001b[0m\n\u001b[0;32m---> 70\u001b[0;31m             \u001b[0;32mif\u001b[0m \u001b[0mself\u001b[0m\u001b[0;34m.\u001b[0m\u001b[0mquitting\u001b[0m\u001b[0;34m:\u001b[0m \u001b[0;32mraise\u001b[0m \u001b[0mBdbQuit\u001b[0m\u001b[0;34m\u001b[0m\u001b[0;34m\u001b[0m\u001b[0m\n\u001b[0m\u001b[1;32m     71\u001b[0m         \u001b[0;32mreturn\u001b[0m \u001b[0mself\u001b[0m\u001b[0;34m.\u001b[0m\u001b[0mtrace_dispatch\u001b[0m\u001b[0;34m\u001b[0m\u001b[0;34m\u001b[0m\u001b[0m\n\u001b[1;32m     72\u001b[0m \u001b[0;34m\u001b[0m\u001b[0m\n",
            "\u001b[0;31mBdbQuit\u001b[0m: "
          ]
        }
      ]
    },
    {
      "cell_type": "markdown",
      "metadata": {
        "id": "0Q1leNPjs9Hr",
        "colab_type": "text"
      },
      "source": [
        "# Debugger Commands"
      ]
    },
    {
      "cell_type": "markdown",
      "metadata": {
        "id": "DZ0TVZL2s9Hs",
        "colab_type": "text"
      },
      "source": [
        "**1. h(elp) [command]**\n"
      ]
    },
    {
      "cell_type": "markdown",
      "metadata": {
        "id": "qABjXc5Ls9Hu",
        "colab_type": "text"
      },
      "source": [
        "Without argument, print the list of available commands. With a command as argument, print help about that command. help pdb displays the full documentation (the docstring of the pdb module). Since the command argument must be an identifier, help exec must be entered to get help on the ! command."
      ]
    },
    {
      "cell_type": "markdown",
      "metadata": {
        "id": "TeMND8Ens9Hu",
        "colab_type": "text"
      },
      "source": [
        "**2. w(here)**\n",
        "\n",
        "Print a stack trace, with the most recent frame at the bottom. An arrow indicates the current frame, which determines the context of most commands."
      ]
    },
    {
      "cell_type": "markdown",
      "metadata": {
        "id": "CYBndzsMs9Hv",
        "colab_type": "text"
      },
      "source": [
        "**3. d(own) [count]**\n",
        "\n",
        "Move the current frame count (default one) levels down in the stack trace (to a newer frame)."
      ]
    },
    {
      "cell_type": "markdown",
      "metadata": {
        "id": "iaImF2V0s9Hw",
        "colab_type": "text"
      },
      "source": [
        "**4.c(ont(inue))**\n",
        "\n",
        "Continue execution, only stop when a breakpoint is encountered."
      ]
    },
    {
      "cell_type": "markdown",
      "metadata": {
        "id": "AnWZRE-Js9Hx",
        "colab_type": "text"
      },
      "source": [
        "**5. q(uit)**\n",
        "\n",
        "Quit from the debugger. The program being executed is aborted."
      ]
    },
    {
      "cell_type": "markdown",
      "metadata": {
        "id": "wZs41FKTs9Hy",
        "colab_type": "text"
      },
      "source": [
        "**Termial/Command prompt based debugging**"
      ]
    },
    {
      "cell_type": "code",
      "metadata": {
        "id": "2UmazrO5s9Hz",
        "colab_type": "code",
        "colab": {}
      },
      "source": [
        ""
      ],
      "execution_count": 0,
      "outputs": []
    }
  ]
}